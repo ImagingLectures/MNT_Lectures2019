{
 "cells": [
  {
   "cell_type": "markdown",
   "metadata": {},
   "source": [
    "# Demonstration of the limitations of convolution at low SNR"
   ]
  },
  {
   "cell_type": "code",
   "execution_count": null,
   "metadata": {},
   "outputs": [],
   "source": [
    "import numpy as np\n",
    "import matplotlib.pyplot as plt\n",
    "import skimage as img\n",
    "import skimage.io as io"
   ]
  },
  {
   "cell_type": "markdown",
   "metadata": {},
   "source": [
    "# Prepare data"
   ]
  },
  {
   "cell_type": "code",
   "execution_count": null,
   "metadata": {},
   "outputs": [],
   "source": [
    "a=io.imread('../data/sand.png')\n",
    "a=a/256.0\n",
    "plt.imshow(a)\n",
    "plt.colorbar()"
   ]
  },
  {
   "cell_type": "code",
   "execution_count": null,
   "metadata": {},
   "outputs": [],
   "source": [
    "n0=np.random.randn(a.shape[0],a.shape[1])\n",
    "n1=img.filters.gaussian(np.random.randn(a.shape[0],a.shape[1]),sigma=2)\n",
    "N=n0+4*n1\n",
    "N=N/N.std()\n",
    "plt.figure(figsize=[12,5])\n",
    "plt.subplot(1,3,1)\n",
    "plt.imshow(n0)\n",
    "plt.subplot(1,3,2)\n",
    "plt.imshow(n1)\n",
    "plt.subplot(1,3,3)\n",
    "plt.imshow(N)"
   ]
  },
  {
   "cell_type": "markdown",
   "metadata": {},
   "source": [
    "## Test images"
   ]
  },
  {
   "cell_type": "code",
   "execution_count": null,
   "metadata": {},
   "outputs": [],
   "source": [
    "snr10  = a + 0.1*N\n",
    "snr20  = a + 0.05*N\n",
    "snr5  = a + 0.2*N\n",
    "snr2 = a + 0.5*N\n",
    "plt.figure(figsize=[12,12])\n",
    "plt.subplot(2,2,1)\n",
    "plt.imshow(snr2)\n",
    "plt.subplot(2,2,2)\n",
    "plt.imshow(snr5)\n",
    "plt.subplot(2,2,3)\n",
    "plt.imshow(snr10)\n",
    "plt.subplot(2,2,4)\n",
    "plt.imshow(snr20)"
   ]
  },
  {
   "cell_type": "markdown",
   "metadata": {},
   "source": [
    "# Try different filters"
   ]
  },
  {
   "cell_type": "code",
   "execution_count": null,
   "metadata": {},
   "outputs": [],
   "source": [
    "sigma=5\n",
    "line=50\n",
    "plt.figure(figsize=[12,6])\n",
    "plt.subplot(2,4,1)\n",
    "plt.imshow(snr2)\n",
    "plt.title('Input')\n",
    "plt.subplot(2,4,2)\n",
    "fsnr2=img.filters.gaussian(snr2,sigma=sigma)\n",
    "plt.imshow(fsnr2)\n",
    "plt.title('Filtered')\n",
    "plt.subplot(2,4,3)\n",
    "plt.plot(snr2[line,:],label='Input')\n",
    "plt.plot(fsnr2[line,:],label='Filtered')\n",
    "plt.title('Line profile')\n",
    "plt.subplot(2,4,4)\n",
    "[h2,a2]=np.histogram(np.squeeze(snr2),bins=100)\n",
    "[fh2,fa2]=np.histogram(np.squeeze(fsnr2),bins=100)\n",
    "plt.plot(a2[0:-1],h2,label='Input')\n",
    "plt.plot(fa2[0:-1],fh2,label='Filtered')\n",
    "plt.title('Histogram')\n",
    "plt.subplot(2,4,5)\n",
    "plt.imshow(snr20)\n",
    "plt.subplot(2,4,6)\n",
    "fsnr20=img.filters.gaussian(snr20,sigma=sigma)\n",
    "plt.imshow(fsnr20)\n",
    "plt.subplot(2,4,7)\n",
    "plt.plot(snr20[line,:],label='Input')\n",
    "plt.plot(fsnr20[line,:],label='Filtered')\n",
    "plt.subplot(2,4,8)\n",
    "[h20,a20]=np.histogram(np.squeeze(snr20),bins=100)\n",
    "[fh20,fa20]=np.histogram(np.squeeze(fsnr20),bins=100)\n",
    "plt.plot(a20[0:-1],h20,label='Input')\n",
    "plt.plot(fa20[0:-1],fh20,label='Filtered')\n",
    "plt.savefig('convLowSNR.pdf')"
   ]
  },
  {
   "cell_type": "code",
   "execution_count": null,
   "metadata": {},
   "outputs": [],
   "source": []
  }
 ],
 "metadata": {
  "kernelspec": {
   "display_name": "Python 3",
   "language": "python",
   "name": "python3"
  },
  "language_info": {
   "codemirror_mode": {
    "name": "ipython",
    "version": 3
   },
   "file_extension": ".py",
   "mimetype": "text/x-python",
   "name": "python",
   "nbconvert_exporter": "python",
   "pygments_lexer": "ipython3",
   "version": "3.7.3"
  }
 },
 "nbformat": 4,
 "nbformat_minor": 2
}
